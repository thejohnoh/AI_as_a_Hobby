{
  "nbformat": 4,
  "nbformat_minor": 0,
  "metadata": {
    "colab": {
      "name": "flaskColabIntro.ipynb",
      "provenance": [],
      "collapsed_sections": []
    },
    "kernelspec": {
      "display_name": "Python 3",
      "name": "python3"
    }
  },
  "cells": [
    {
      "cell_type": "markdown",
      "metadata": {
        "id": "F2gRaNbepU8X"
      },
      "source": [
        "First off we need to create a couple of useful directories. Since we're doing this in colab for testing, we'll need to do create these folders each time we have a new runtime."
      ]
    },
    {
      "cell_type": "code",
      "metadata": {
        "id": "vF1IgQYNeXwC"
      },
      "source": [
        "import os\n",
        "\n",
        "if not os.path.exists('templates'):\n",
        "  os.makedirs('templates')\n",
        "if not os.path.exists('static'):\n",
        "  os.makedirs('static')"
      ],
      "execution_count": null,
      "outputs": []
    },
    {
      "cell_type": "markdown",
      "metadata": {
        "id": "LCi2rIqadpt6"
      },
      "source": [
        "# Example 0\n",
        "\n",
        "Example from https://flask.palletsprojects.com/en/1.1.x/quickstart/ modified to work in google colab using flask_ngrok."
      ]
    },
    {
      "cell_type": "code",
      "metadata": {
        "colab": {
          "base_uri": "https://localhost:8080/"
        },
        "id": "TJa2Ck1IaKUd",
        "outputId": "e603068b-3e87-486f-feac-35e5798bf23b"
      },
      "source": [
        "!pip install flask_ngrok\n",
        "from flask_ngrok import run_with_ngrok\n",
        "from flask import Flask, render_template\n",
        "\n",
        "app = Flask(__name__)\n",
        "run_with_ngrok(app)\n",
        "\n",
        "@app.route('/')\n",
        "def hello_world():\n",
        "  return 'Hello, World!'\n",
        "\n",
        "if __name__ == '__main__':\n",
        "  app.run()\n",
        "\n",
        "#Flask Documentation Starter code (plus flask_ngrok stuff for google colab)\n",
        "#https://flask.palletsprojects.com/en/1.1.x/quickstart/"
      ],
      "execution_count": null,
      "outputs": [
        {
          "output_type": "stream",
          "text": [
            "Collecting flask_ngrok\n",
            "  Downloading https://files.pythonhosted.org/packages/af/6c/f54cb686ad1129e27d125d182f90f52b32f284e6c8df58c1bae54fa1adbc/flask_ngrok-0.0.25-py3-none-any.whl\n",
            "Requirement already satisfied: Flask>=0.8 in /usr/local/lib/python3.6/dist-packages (from flask_ngrok) (1.1.2)\n",
            "Requirement already satisfied: requests in /usr/local/lib/python3.6/dist-packages (from flask_ngrok) (2.23.0)\n",
            "Requirement already satisfied: Werkzeug>=0.15 in /usr/local/lib/python3.6/dist-packages (from Flask>=0.8->flask_ngrok) (1.0.1)\n",
            "Requirement already satisfied: Jinja2>=2.10.1 in /usr/local/lib/python3.6/dist-packages (from Flask>=0.8->flask_ngrok) (2.11.2)\n",
            "Requirement already satisfied: itsdangerous>=0.24 in /usr/local/lib/python3.6/dist-packages (from Flask>=0.8->flask_ngrok) (1.1.0)\n",
            "Requirement already satisfied: click>=5.1 in /usr/local/lib/python3.6/dist-packages (from Flask>=0.8->flask_ngrok) (7.1.2)\n",
            "Requirement already satisfied: urllib3!=1.25.0,!=1.25.1,<1.26,>=1.21.1 in /usr/local/lib/python3.6/dist-packages (from requests->flask_ngrok) (1.24.3)\n",
            "Requirement already satisfied: certifi>=2017.4.17 in /usr/local/lib/python3.6/dist-packages (from requests->flask_ngrok) (2020.12.5)\n",
            "Requirement already satisfied: chardet<4,>=3.0.2 in /usr/local/lib/python3.6/dist-packages (from requests->flask_ngrok) (3.0.4)\n",
            "Requirement already satisfied: idna<3,>=2.5 in /usr/local/lib/python3.6/dist-packages (from requests->flask_ngrok) (2.10)\n",
            "Requirement already satisfied: MarkupSafe>=0.23 in /usr/local/lib/python3.6/dist-packages (from Jinja2>=2.10.1->Flask>=0.8->flask_ngrok) (1.1.1)\n",
            "Installing collected packages: flask-ngrok\n",
            "Successfully installed flask-ngrok-0.0.25\n",
            " * Serving Flask app \"__main__\" (lazy loading)\n",
            " * Environment: production\n",
            "\u001b[31m   WARNING: This is a development server. Do not use it in a production deployment.\u001b[0m\n",
            "\u001b[2m   Use a production WSGI server instead.\u001b[0m\n",
            " * Debug mode: off\n"
          ],
          "name": "stdout"
        },
        {
          "output_type": "stream",
          "text": [
            " * Running on http://127.0.0.1:5000/ (Press CTRL+C to quit)\n"
          ],
          "name": "stderr"
        },
        {
          "output_type": "stream",
          "text": [
            " * Running on http://226eaf1c00a8.ngrok.io\n",
            " * Traffic stats available on http://127.0.0.1:4040\n"
          ],
          "name": "stdout"
        }
      ]
    },
    {
      "cell_type": "markdown",
      "metadata": {
        "id": "nziapQ2uan1b"
      },
      "source": [
        "**Example 1**\n",
        "\n",
        "Example using bootstrap 4. Various tutorials on html and bootstrap can be found at w3schools and other websites."
      ]
    },
    {
      "cell_type": "markdown",
      "metadata": {
        "id": "N-Atg2f4d0y-"
      },
      "source": [
        "# Example 1\n",
        "\n",
        "Example using bootstrap 4. Various tutorials on html and bootstrap can be found at w3schools and other websites."
      ]
    },
    {
      "cell_type": "code",
      "metadata": {
        "id": "VNGNC2wkwjBu"
      },
      "source": [
        "text = '''\n",
        "<!doctype html>\n",
        "<html lang=\"en\">\n",
        "  <head>\n",
        "    <meta charset=\"utf-8\">\n",
        "    <meta name=\"viewport\" content=\"width=device-width, initial-scale=1\">\n",
        "\n",
        "    <title>Minimal Bootstrap Example in Flask</title>\n",
        "    <link href=\"https://getbootstrap.com/docs/4.0/dist/css/bootstrap.min.css\" rel=\"stylesheet\">\n",
        "  </head>\n",
        "\n",
        "  <body>\n",
        "\n",
        "    <nav class=\"navbar navbar-expand-md navbar-dark bg-dark fixed-top\">\n",
        "      <a class=\"navbar-brand\" href=\"#\">Navbar</a>\n",
        "      <button class=\"navbar-toggler\" type=\"button\" data-toggle=\"collapse\" data-target=\"#navbarsExampleDefault\" aria-controls=\"navbarsExampleDefault\" aria-expanded=\"false\" aria-label=\"Toggle navigation\">\n",
        "        <span class=\"navbar-toggler-icon\"></span>\n",
        "      </button>\n",
        "\n",
        "      <div class=\"collapse navbar-collapse\" id=\"navbarsExampleDefault\">\n",
        "        <ul class=\"navbar-nav mr-auto\">\n",
        "          <li class=\"nav-item active\">\n",
        "            <a class=\"nav-link\" href=\"#\">Home <span class=\"sr-only\">(current)</span></a>\n",
        "          </li>\n",
        "          <li class=\"nav-item\">\n",
        "            <a class=\"nav-link\" href=\"#\">Link</a>\n",
        "          </li>\n",
        "          <li class=\"nav-item\">\n",
        "            <a class=\"nav-link disabled\" href=\"#\">Disabled</a>\n",
        "          </li>\n",
        "          <li class=\"nav-item dropdown\">\n",
        "            <a class=\"nav-link dropdown-toggle\" href=\"http://example.com\" id=\"dropdown01\" data-toggle=\"dropdown\" aria-haspopup=\"true\" aria-expanded=\"false\">Dropdown</a>\n",
        "            <div class=\"dropdown-menu\" aria-labelledby=\"dropdown01\">\n",
        "              <a class=\"dropdown-item\" href=\"#\">Action</a>\n",
        "              <a class=\"dropdown-item\" href=\"#\">Another action</a>\n",
        "              <a class=\"dropdown-item\" href=\"#\">Something else here</a>\n",
        "            </div>\n",
        "          </li>\n",
        "        </ul>\n",
        "        <form class=\"form-inline my-2 my-lg-0\">\n",
        "          <input class=\"form-control mr-sm-2\" type=\"text\" placeholder=\"Search\" aria-label=\"Search\">\n",
        "          <button class=\"btn btn-outline-success my-2 my-sm-0\" type=\"submit\">Search</button>\n",
        "        </form>\n",
        "      </div>\n",
        "    </nav>\n",
        "\n",
        "    <main role=\"main\" class=\"container\">\n",
        "\n",
        "      <div class=\"start\">\n",
        "        <h1>Bootstrap start</h1>\n",
        "        <p class=\"lead\">Brief Example of using bootstrap.<br> \n",
        "                        Good examples on bootstrap usage are available at <a href=\"https://www.w3schools.com/\">W3schools.com</a> and <a href=\"https://www.getbootstrap.com/\">getbootstrap.com!</a>.</p>\n",
        "      </div>\n",
        "\n",
        "    </main>\n",
        "  </body>\n",
        "</html>\n",
        "'''\n",
        "file = open(\"templates/text.html\",\"w\")\n",
        "file.write(text)\n",
        "file.close()"
      ],
      "execution_count": null,
      "outputs": []
    },
    {
      "cell_type": "markdown",
      "metadata": {
        "id": "kH7WTW953fHi"
      },
      "source": [
        "Now we'll load the app to a temporary url."
      ]
    },
    {
      "cell_type": "code",
      "metadata": {
        "colab": {
          "base_uri": "https://localhost:8080/"
        },
        "id": "fL2zFZnE3awC",
        "outputId": "b2ed36c4-8d66-44e0-e846-ccff36105d14"
      },
      "source": [
        "!pip install flask_ngrok\n",
        "from flask_ngrok import run_with_ngrok\n",
        "from flask import Flask, render_template\n",
        "app = Flask(__name__)\n",
        "run_with_ngrok(app)\n",
        "@app.route('/')\n",
        "def text():\n",
        "  return render_template('text.html')\n",
        "\n",
        "app.run()\n"
      ],
      "execution_count": null,
      "outputs": [
        {
          "output_type": "stream",
          "text": [
            "Requirement already satisfied: flask_ngrok in /usr/local/lib/python3.6/dist-packages (0.0.25)\n",
            "Requirement already satisfied: Flask>=0.8 in /usr/local/lib/python3.6/dist-packages (from flask_ngrok) (1.1.2)\n",
            "Requirement already satisfied: requests in /usr/local/lib/python3.6/dist-packages (from flask_ngrok) (2.23.0)\n",
            "Requirement already satisfied: click>=5.1 in /usr/local/lib/python3.6/dist-packages (from Flask>=0.8->flask_ngrok) (7.1.2)\n",
            "Requirement already satisfied: Werkzeug>=0.15 in /usr/local/lib/python3.6/dist-packages (from Flask>=0.8->flask_ngrok) (1.0.1)\n",
            "Requirement already satisfied: Jinja2>=2.10.1 in /usr/local/lib/python3.6/dist-packages (from Flask>=0.8->flask_ngrok) (2.11.2)\n",
            "Requirement already satisfied: itsdangerous>=0.24 in /usr/local/lib/python3.6/dist-packages (from Flask>=0.8->flask_ngrok) (1.1.0)\n",
            "Requirement already satisfied: chardet<4,>=3.0.2 in /usr/local/lib/python3.6/dist-packages (from requests->flask_ngrok) (3.0.4)\n",
            "Requirement already satisfied: idna<3,>=2.5 in /usr/local/lib/python3.6/dist-packages (from requests->flask_ngrok) (2.10)\n",
            "Requirement already satisfied: certifi>=2017.4.17 in /usr/local/lib/python3.6/dist-packages (from requests->flask_ngrok) (2020.12.5)\n",
            "Requirement already satisfied: urllib3!=1.25.0,!=1.25.1,<1.26,>=1.21.1 in /usr/local/lib/python3.6/dist-packages (from requests->flask_ngrok) (1.24.3)\n",
            "Requirement already satisfied: MarkupSafe>=0.23 in /usr/local/lib/python3.6/dist-packages (from Jinja2>=2.10.1->Flask>=0.8->flask_ngrok) (1.1.1)\n",
            " * Serving Flask app \"__main__\" (lazy loading)\n",
            " * Environment: production\n",
            "\u001b[31m   WARNING: This is a development server. Do not use it in a production deployment.\u001b[0m\n",
            "\u001b[2m   Use a production WSGI server instead.\u001b[0m\n",
            " * Debug mode: off\n"
          ],
          "name": "stdout"
        },
        {
          "output_type": "stream",
          "text": [
            " * Running on http://127.0.0.1:5000/ (Press CTRL+C to quit)\n"
          ],
          "name": "stderr"
        },
        {
          "output_type": "stream",
          "text": [
            " * Running on http://b5d1917e7984.ngrok.io\n",
            " * Traffic stats available on http://127.0.0.1:4040\n"
          ],
          "name": "stdout"
        },
        {
          "output_type": "stream",
          "text": [
            "127.0.0.1 - - [17/Dec/2020 16:49:09] \"\u001b[37mGET / HTTP/1.1\u001b[0m\" 200 -\n",
            "127.0.0.1 - - [17/Dec/2020 16:49:09] \"\u001b[33mGET /favicon.ico HTTP/1.1\u001b[0m\" 404 -\n"
          ],
          "name": "stderr"
        }
      ]
    },
    {
      "cell_type": "markdown",
      "metadata": {
        "id": "ybjnUoZ_ckPi"
      },
      "source": [
        "**Example 2**\n",
        "\n",
        "Let's use jinja templating to include an existing html file"
      ]
    },
    {
      "cell_type": "markdown",
      "metadata": {
        "id": "yjsTxQry2c18"
      },
      "source": [
        "First let's create an html file for a navigation bar that we might anticipate using"
      ]
    },
    {
      "cell_type": "code",
      "metadata": {
        "colab": {
          "base_uri": "https://localhost:8080/"
        },
        "id": "XMY7FKBp4jWl",
        "outputId": "73c8cb6e-b16f-4a9f-e5ea-7bfab97eb31f"
      },
      "source": [
        "!pip install flask_ngrok\n",
        "from flask_ngrok import run_with_ngrok\n",
        "from flask import Flask, render_template\n",
        "\n",
        "navbar = '''\n",
        "<!doctype html>\n",
        "<html lang=\"en\">\n",
        "  <head>\n",
        "    <meta charset=\"utf-8\">\n",
        "    <meta name=\"viewport\" content=\"width=device-width, initial-scale=1\">\n",
        "\n",
        "    <title>Minimal Bootstrap Example in Flask</title>\n",
        "    <link href=\"https://getbootstrap.com/docs/4.0/dist/css/bootstrap.min.css\" rel=\"stylesheet\">\n",
        "  </head>\n",
        "  <nav class=\"navbar navbar-expand-lg navbar-light bg-light\">\n",
        "    <a class=\"navbar-brand\" href=\"#\">Navbar</a>\n",
        "    <button class=\"navbar-toggler\" type=\"button\" data-toggle=\"collapse\" data-target=\"#navbarSupportedContent\" aria-controls=\"navbarSupportedContent\" aria-expanded=\"false\" aria-label=\"Toggle navigation\">\n",
        "      <span class=\"navbar-toggler-icon\"></span>\n",
        "    </button>\n",
        "\n",
        "    <div class=\"collapse navbar-collapse\" id=\"navbarSupportedContent\">\n",
        "      <ul class=\"navbar-nav mr-auto\">\n",
        "        <li class=\"nav-item active\">\n",
        "          <a class=\"nav-link\" href=\"#\">Home <span class=\"sr-only\">(current)</span></a>\n",
        "        </li>\n",
        "        <li class=\"nav-item\">\n",
        "          <a class=\"nav-link\" href=\"#\">Link</a>\n",
        "        </li>\n",
        "        <li class=\"nav-item dropdown\">\n",
        "          <a class=\"nav-link dropdown-toggle\" href=\"#\" id=\"navbarDropdown\" role=\"button\" data-toggle=\"dropdown\" aria-haspopup=\"true\" aria-expanded=\"false\">\n",
        "          Dropdown\n",
        "          </a>\n",
        "          <div class=\"dropdown-menu\" aria-labelledby=\"navbarDropdown\">\n",
        "            <a class=\"dropdown-item\" href=\"#\">Action</a>\n",
        "            <a class=\"dropdown-item\" href=\"#\">Another action</a>\n",
        "            <div class=\"dropdown-divider\"></div>\n",
        "            <a class=\"dropdown-item\" href=\"#\">Something else here</a>\n",
        "          </div>\n",
        "        </li>\n",
        "        <li class=\"nav-item\">\n",
        "          <a class=\"nav-link disabled\" href=\"#\">Disabled</a>\n",
        "        </li>\n",
        "      </ul>\n",
        "      <form class=\"form-inline my-2 my-lg-0\">\n",
        "        <input class=\"form-control mr-sm-2\" type=\"search\" placeholder=\"Search\" aria-label=\"Search\">\n",
        "        <button class=\"btn btn-outline-success my-2 my-sm-0\" type=\"submit\">Search</button>\n",
        "      </form>\n",
        "    </div>\n",
        "  </nav>\n",
        "'''\n",
        "file = open(\"templates/navbar.html\",\"w\")\n",
        "file.write(navbar)\n",
        "file.close()    "
      ],
      "execution_count": null,
      "outputs": [
        {
          "output_type": "stream",
          "text": [
            "Requirement already satisfied: flask_ngrok in /usr/local/lib/python3.6/dist-packages (0.0.25)\n",
            "Requirement already satisfied: requests in /usr/local/lib/python3.6/dist-packages (from flask_ngrok) (2.23.0)\n",
            "Requirement already satisfied: Flask>=0.8 in /usr/local/lib/python3.6/dist-packages (from flask_ngrok) (1.1.2)\n",
            "Requirement already satisfied: urllib3!=1.25.0,!=1.25.1,<1.26,>=1.21.1 in /usr/local/lib/python3.6/dist-packages (from requests->flask_ngrok) (1.24.3)\n",
            "Requirement already satisfied: idna<3,>=2.5 in /usr/local/lib/python3.6/dist-packages (from requests->flask_ngrok) (2.10)\n",
            "Requirement already satisfied: chardet<4,>=3.0.2 in /usr/local/lib/python3.6/dist-packages (from requests->flask_ngrok) (3.0.4)\n",
            "Requirement already satisfied: certifi>=2017.4.17 in /usr/local/lib/python3.6/dist-packages (from requests->flask_ngrok) (2020.12.5)\n",
            "Requirement already satisfied: itsdangerous>=0.24 in /usr/local/lib/python3.6/dist-packages (from Flask>=0.8->flask_ngrok) (1.1.0)\n",
            "Requirement already satisfied: Jinja2>=2.10.1 in /usr/local/lib/python3.6/dist-packages (from Flask>=0.8->flask_ngrok) (2.11.2)\n",
            "Requirement already satisfied: click>=5.1 in /usr/local/lib/python3.6/dist-packages (from Flask>=0.8->flask_ngrok) (7.1.2)\n",
            "Requirement already satisfied: Werkzeug>=0.15 in /usr/local/lib/python3.6/dist-packages (from Flask>=0.8->flask_ngrok) (1.0.1)\n",
            "Requirement already satisfied: MarkupSafe>=0.23 in /usr/local/lib/python3.6/dist-packages (from Jinja2>=2.10.1->Flask>=0.8->flask_ngrok) (1.1.1)\n"
          ],
          "name": "stdout"
        }
      ]
    },
    {
      "cell_type": "markdown",
      "metadata": {
        "id": "0LZsigeF2h3S"
      },
      "source": [
        "Let's check out the navbar"
      ]
    },
    {
      "cell_type": "code",
      "metadata": {
        "colab": {
          "base_uri": "https://localhost:8080/"
        },
        "id": "G75-ssEO2ibT",
        "outputId": "002808fc-d85c-4a21-8f0d-2d7859187cad"
      },
      "source": [
        "!pip install flask_ngrok\n",
        "from flask_ngrok import run_with_ngrok\n",
        "from flask import Flask, render_template\n",
        "\n",
        "app = Flask(__name__)\n",
        "run_with_ngrok(app)\n",
        "@app.route('/')\n",
        "def text():\n",
        "  return render_template('navbar.html')\n",
        "\n",
        "app.run()\n"
      ],
      "execution_count": null,
      "outputs": [
        {
          "output_type": "stream",
          "text": [
            "Requirement already satisfied: flask_ngrok in /usr/local/lib/python3.6/dist-packages (0.0.25)\n",
            "Requirement already satisfied: Flask>=0.8 in /usr/local/lib/python3.6/dist-packages (from flask_ngrok) (1.1.2)\n",
            "Requirement already satisfied: requests in /usr/local/lib/python3.6/dist-packages (from flask_ngrok) (2.23.0)\n",
            "Requirement already satisfied: click>=5.1 in /usr/local/lib/python3.6/dist-packages (from Flask>=0.8->flask_ngrok) (7.1.2)\n",
            "Requirement already satisfied: itsdangerous>=0.24 in /usr/local/lib/python3.6/dist-packages (from Flask>=0.8->flask_ngrok) (1.1.0)\n",
            "Requirement already satisfied: Jinja2>=2.10.1 in /usr/local/lib/python3.6/dist-packages (from Flask>=0.8->flask_ngrok) (2.11.2)\n",
            "Requirement already satisfied: Werkzeug>=0.15 in /usr/local/lib/python3.6/dist-packages (from Flask>=0.8->flask_ngrok) (1.0.1)\n",
            "Requirement already satisfied: urllib3!=1.25.0,!=1.25.1,<1.26,>=1.21.1 in /usr/local/lib/python3.6/dist-packages (from requests->flask_ngrok) (1.24.3)\n",
            "Requirement already satisfied: certifi>=2017.4.17 in /usr/local/lib/python3.6/dist-packages (from requests->flask_ngrok) (2020.12.5)\n",
            "Requirement already satisfied: chardet<4,>=3.0.2 in /usr/local/lib/python3.6/dist-packages (from requests->flask_ngrok) (3.0.4)\n",
            "Requirement already satisfied: idna<3,>=2.5 in /usr/local/lib/python3.6/dist-packages (from requests->flask_ngrok) (2.10)\n",
            "Requirement already satisfied: MarkupSafe>=0.23 in /usr/local/lib/python3.6/dist-packages (from Jinja2>=2.10.1->Flask>=0.8->flask_ngrok) (1.1.1)\n",
            " * Serving Flask app \"__main__\" (lazy loading)\n",
            " * Environment: production\n",
            "\u001b[31m   WARNING: This is a development server. Do not use it in a production deployment.\u001b[0m\n",
            "\u001b[2m   Use a production WSGI server instead.\u001b[0m\n",
            " * Debug mode: off\n"
          ],
          "name": "stdout"
        },
        {
          "output_type": "stream",
          "text": [
            " * Running on http://127.0.0.1:5000/ (Press CTRL+C to quit)\n"
          ],
          "name": "stderr"
        },
        {
          "output_type": "stream",
          "text": [
            " * Running on http://99d49b1937fd.ngrok.io\n",
            " * Traffic stats available on http://127.0.0.1:4040\n"
          ],
          "name": "stdout"
        },
        {
          "output_type": "stream",
          "text": [
            "127.0.0.1 - - [18/Jan/2021 22:00:34] \"\u001b[37mGET / HTTP/1.1\u001b[0m\" 200 -\n",
            "127.0.0.1 - - [18/Jan/2021 22:00:35] \"\u001b[33mGET /favicon.ico HTTP/1.1\u001b[0m\" 404 -\n"
          ],
          "name": "stderr"
        }
      ]
    },
    {
      "cell_type": "markdown",
      "metadata": {
        "id": "8hceiNolbrHn"
      },
      "source": [
        "We can use these html files in other html files using [jinja](https://jinja.palletsprojects.com/en/2.11.x/) templating.  We'll just use the include to include the navbar template and return the rendered contents of that file into a new file."
      ]
    },
    {
      "cell_type": "code",
      "metadata": {
        "id": "fPNcC9CEcPyr"
      },
      "source": [
        "includes = '''\n",
        "{% include \"navbar.html\" %}\n",
        "<body>\n",
        "  <h1> This is a child template including navbar.html </h1>\n",
        "</body>\n",
        "'''\n",
        "file = open('templates/includes.html', 'w')\n",
        "file.write(includes)\n",
        "file.close()\n"
      ],
      "execution_count": null,
      "outputs": []
    },
    {
      "cell_type": "code",
      "metadata": {
        "colab": {
          "base_uri": "https://localhost:8080/"
        },
        "id": "XDuDCwfAoQGE",
        "outputId": "364b5046-6e3e-416f-93d4-9f6377f81df8"
      },
      "source": [
        "!pip install flask_ngrok\n",
        "from flask_ngrok import run_with_ngrok\n",
        "from flask import Flask, render_template\n",
        "\n",
        "app = Flask(__name__)\n",
        "run_with_ngrok(app)\n",
        "@app.route('/')\n",
        "def includes():\n",
        "  return render_template('includes.html')\n",
        "\n",
        "app.run()\n",
        "\n"
      ],
      "execution_count": null,
      "outputs": [
        {
          "output_type": "stream",
          "text": [
            "Requirement already satisfied: flask_ngrok in /usr/local/lib/python3.6/dist-packages (0.0.25)\n",
            "Requirement already satisfied: Flask>=0.8 in /usr/local/lib/python3.6/dist-packages (from flask_ngrok) (1.1.2)\n",
            "Requirement already satisfied: requests in /usr/local/lib/python3.6/dist-packages (from flask_ngrok) (2.23.0)\n",
            "Requirement already satisfied: itsdangerous>=0.24 in /usr/local/lib/python3.6/dist-packages (from Flask>=0.8->flask_ngrok) (1.1.0)\n",
            "Requirement already satisfied: click>=5.1 in /usr/local/lib/python3.6/dist-packages (from Flask>=0.8->flask_ngrok) (7.1.2)\n",
            "Requirement already satisfied: Jinja2>=2.10.1 in /usr/local/lib/python3.6/dist-packages (from Flask>=0.8->flask_ngrok) (2.11.2)\n",
            "Requirement already satisfied: Werkzeug>=0.15 in /usr/local/lib/python3.6/dist-packages (from Flask>=0.8->flask_ngrok) (1.0.1)\n",
            "Requirement already satisfied: chardet<4,>=3.0.2 in /usr/local/lib/python3.6/dist-packages (from requests->flask_ngrok) (3.0.4)\n",
            "Requirement already satisfied: idna<3,>=2.5 in /usr/local/lib/python3.6/dist-packages (from requests->flask_ngrok) (2.10)\n",
            "Requirement already satisfied: urllib3!=1.25.0,!=1.25.1,<1.26,>=1.21.1 in /usr/local/lib/python3.6/dist-packages (from requests->flask_ngrok) (1.24.3)\n",
            "Requirement already satisfied: certifi>=2017.4.17 in /usr/local/lib/python3.6/dist-packages (from requests->flask_ngrok) (2020.12.5)\n",
            "Requirement already satisfied: MarkupSafe>=0.23 in /usr/local/lib/python3.6/dist-packages (from Jinja2>=2.10.1->Flask>=0.8->flask_ngrok) (1.1.1)\n",
            " * Serving Flask app \"__main__\" (lazy loading)\n",
            " * Environment: production\n",
            "\u001b[31m   WARNING: This is a development server. Do not use it in a production deployment.\u001b[0m\n",
            "\u001b[2m   Use a production WSGI server instead.\u001b[0m\n",
            " * Debug mode: off\n"
          ],
          "name": "stdout"
        },
        {
          "output_type": "stream",
          "text": [
            " * Running on http://127.0.0.1:5000/ (Press CTRL+C to quit)\n"
          ],
          "name": "stderr"
        },
        {
          "output_type": "stream",
          "text": [
            " * Running on http://b67aba6d250a.ngrok.io\n",
            " * Traffic stats available on http://127.0.0.1:4040\n"
          ],
          "name": "stdout"
        },
        {
          "output_type": "stream",
          "text": [
            "127.0.0.1 - - [18/Jan/2021 22:36:06] \"\u001b[37mGET / HTTP/1.1\u001b[0m\" 200 -\n",
            "127.0.0.1 - - [18/Jan/2021 22:36:07] \"\u001b[33mGET /favicon.ico HTTP/1.1\u001b[0m\" 404 -\n"
          ],
          "name": "stderr"
        }
      ]
    }
  ]
}
